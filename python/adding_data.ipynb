{
 "cells": [
  {
   "cell_type": "code",
   "execution_count": 4,
   "metadata": {},
   "outputs": [],
   "source": [
    "import psycopg2\n",
    "\n",
    "conn = psycopg2.connect(\n",
    "    host=\"localhost\",\n",
    "    port=\"5432\",\n",
    "    database = \"valumetrics\",\n",
    "    user=\"postgres\",\n",
    "    password=\"24Feb2003!!\"\n",
    ")"
   ]
  },
  {
   "cell_type": "code",
   "execution_count": 6,
   "metadata": {},
   "outputs": [],
   "source": [
    "cursor = conn.cursor()\n"
   ]
  },
  {
   "cell_type": "code",
   "execution_count": 13,
   "metadata": {},
   "outputs": [],
   "source": [
    "companies = [\"A\", \"AAPL\", \"AMZN\", \"GOOG\", \"MSFT\", \"NFLX\"]\n",
    "\n",
    "try:\n",
    "    for company in companies:\n",
    "        cursor.execute(\"INSERT INTO companies (name) VALUES (%s);\", (company,))\n",
    "    conn.commit()\n",
    "except Exception as e:\n",
    "    conn.rollback()\n",
    "    print(\"Error:\", str(e))\n"
   ]
  },
  {
   "cell_type": "code",
   "execution_count": 16,
   "metadata": {},
   "outputs": [
    {
     "data": {
      "text/plain": [
       "[(1, 'A', None, None),\n",
       " (2, 'AAPL', None, None),\n",
       " (3, 'AMZN', None, None),\n",
       " (4, 'GOOG', None, None),\n",
       " (5, 'MSFT', None, None),\n",
       " (6, 'NFLX', None, None)]"
      ]
     },
     "execution_count": 16,
     "metadata": {},
     "output_type": "execute_result"
    }
   ],
   "source": [
    "cursor.execute(\"SELECT * FROM companies\")\n",
    "data = cursor.fetchall()\n",
    "data"
   ]
  },
  {
   "cell_type": "code",
   "execution_count": 39,
   "metadata": {},
   "outputs": [
    {
     "ename": "InFailedSqlTransaction",
     "evalue": "current transaction is aborted, commands ignored until end of transaction block\n",
     "output_type": "error",
     "traceback": [
      "\u001b[1;31m---------------------------------------------------------------------------\u001b[0m",
      "\u001b[1;31mInFailedSqlTransaction\u001b[0m                    Traceback (most recent call last)",
      "\u001b[1;32m~\\AppData\\Local\\Temp/ipykernel_5592/1637243627.py\u001b[0m in \u001b[0;36m<module>\u001b[1;34m\u001b[0m\n\u001b[0;32m      7\u001b[0m         \u001b[0mticker\u001b[0m \u001b[1;33m=\u001b[0m \u001b[0mfile\u001b[0m\u001b[1;33m.\u001b[0m\u001b[0msplit\u001b[0m\u001b[1;33m(\u001b[0m\u001b[1;34m\"_\"\u001b[0m\u001b[1;33m)\u001b[0m\u001b[1;33m[\u001b[0m\u001b[1;36m0\u001b[0m\u001b[1;33m]\u001b[0m\u001b[1;33m\u001b[0m\u001b[1;33m\u001b[0m\u001b[0m\n\u001b[0;32m      8\u001b[0m         \u001b[1;31m# Execute a SELECT query to find the company_id based on the ticker\u001b[0m\u001b[1;33m\u001b[0m\u001b[1;33m\u001b[0m\u001b[0m\n\u001b[1;32m----> 9\u001b[1;33m         \u001b[0mcursor\u001b[0m\u001b[1;33m.\u001b[0m\u001b[0mexecute\u001b[0m\u001b[1;33m(\u001b[0m\u001b[1;34m\"SELECT company_id FROM companies WHERE name = %s;\"\u001b[0m\u001b[1;33m,\u001b[0m \u001b[1;33m(\u001b[0m\u001b[0mticker\u001b[0m\u001b[1;33m)\u001b[0m\u001b[1;33m)\u001b[0m\u001b[1;33m\u001b[0m\u001b[1;33m\u001b[0m\u001b[0m\n\u001b[0m\u001b[0;32m     10\u001b[0m         \u001b[0mresult\u001b[0m \u001b[1;33m=\u001b[0m \u001b[0mcursor\u001b[0m\u001b[1;33m.\u001b[0m\u001b[0mfetchone\u001b[0m\u001b[1;33m(\u001b[0m\u001b[1;33m)\u001b[0m\u001b[1;33m\u001b[0m\u001b[1;33m\u001b[0m\u001b[0m\n\u001b[0;32m     11\u001b[0m         \u001b[0mcompany_id\u001b[0m \u001b[1;33m=\u001b[0m \u001b[0mresult\u001b[0m\u001b[1;33m[\u001b[0m\u001b[1;36m0\u001b[0m\u001b[1;33m]\u001b[0m\u001b[1;33m\u001b[0m\u001b[1;33m\u001b[0m\u001b[0m\n",
      "\u001b[1;31mInFailedSqlTransaction\u001b[0m: current transaction is aborted, commands ignored until end of transaction block\n"
     ]
    }
   ],
   "source": [
    "path = \"C:/Users/buckl/Desktop/ValuMetrics/Valumetrics-Demo-App/docs\"\n",
    "import os\n",
    "folders = os.listdir(path)\n",
    "for folder in folders:\n",
    "    files = os.listdir(path + \"/\" + folder)\n",
    "    for file in files:\n",
    "        ticker = file.split(\"_\")[0]\n",
    "        # Execute a SELECT query to find the company_id based on the ticker\n",
    "        cursor.execute(\"SELECT company_id FROM companies WHERE name = %s;\", (ticker))\n",
    "        result = cursor.fetchone()\n",
    "        company_id = result[0]\n",
    "        doc_type = file.split(\"_\")[-1]\n",
    "        \n",
    "        document_name = files+\"/\"+file\n",
    "        with open(\"document_name\",\"rb\") as f:\n",
    "            document_content = f.read()\n",
    "        if doc_type[:4].isdigit():\n",
    "            year = doc_type[:4]\n",
    "            cursor.execute(\"INSERT INTO documents (company_id,document_name,document_content,year,document_type) \"+\n",
    "                           \"VALUES ('{company_id}','{document_name}','{document_content}','{year}','{document_type}');\"\n",
    "                           .format(company_id=company_id,document_name=document_name,document_content = document_content,\n",
    "                                   year = year, doc_type = doc_type))\n",
    "        else:\n",
    "            print(\"Report\",doc_type)\n"
   ]
  }
 ],
 "metadata": {
  "kernelspec": {
   "display_name": "Python 3",
   "language": "python",
   "name": "python3"
  },
  "language_info": {
   "codemirror_mode": {
    "name": "ipython",
    "version": 3
   },
   "file_extension": ".py",
   "mimetype": "text/x-python",
   "name": "python",
   "nbconvert_exporter": "python",
   "pygments_lexer": "ipython3",
   "version": "3.9.7"
  },
  "orig_nbformat": 4
 },
 "nbformat": 4,
 "nbformat_minor": 2
}
