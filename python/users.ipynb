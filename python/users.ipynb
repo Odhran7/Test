{
 "cells": [
  {
   "cell_type": "code",
   "execution_count": 2,
   "metadata": {},
   "outputs": [],
   "source": [
    "import psycopg2\n",
    "\n",
    "def add_user_to_database(username, email, password):\n",
    "    try:\n",
    "        # Connect to the PostgreSQL database\n",
    "        conn = psycopg2.connect(\n",
    "            host=\"database-1.cqmfyvudbg6y.eu-west-1.rds.amazonaws.com\",\n",
    "            port = \"5432\",\n",
    "            database=\"users\",\n",
    "            user=\"postgres\",\n",
    "            password=\"24Feb2003!!\"\n",
    "        )\n",
    "        \n",
    "        # Create a cursor object to interact with the database\n",
    "        cursor = conn.cursor()\n",
    "\n",
    "        # Execute the INSERT statement\n",
    "        cursor.execute(\n",
    "            \"INSERT INTO users (username, email, password) VALUES (%s, %s, %s)\",\n",
    "            (username, email, password)\n",
    "        )\n",
    "\n",
    "        # Commit the transaction\n",
    "        conn.commit()\n",
    "\n",
    "        print(\"User added to the database successfully.\")\n",
    "    except (Exception, psycopg2.Error) as error:\n",
    "        print(\"Error while connecting to PostgreSQL or executing the query:\", error)\n",
    "    \n",
    "\n"
   ]
  },
  {
   "cell_type": "code",
   "execution_count": 3,
   "metadata": {},
   "outputs": [
    {
     "name": "stdout",
     "output_type": "stream",
     "text": [
      "User added to the database successfully.\n"
     ]
    }
   ],
   "source": [
    "# Usage example\n",
    "username = \"john.doe\"\n",
    "email = \"john.doe@example.com\"\n",
    "password = \"password123\"\n",
    "\n",
    "add_user_to_database(username, email, password)\n"
   ]
  },
  {
   "cell_type": "code",
   "execution_count": null,
   "metadata": {},
   "outputs": [],
   "source": []
  }
 ],
 "metadata": {
  "kernelspec": {
   "display_name": "Python 3",
   "language": "python",
   "name": "python3"
  },
  "language_info": {
   "codemirror_mode": {
    "name": "ipython",
    "version": 3
   },
   "file_extension": ".py",
   "mimetype": "text/x-python",
   "name": "python",
   "nbconvert_exporter": "python",
   "pygments_lexer": "ipython3",
   "version": "3.9.7"
  },
  "orig_nbformat": 4
 },
 "nbformat": 4,
 "nbformat_minor": 2
}
